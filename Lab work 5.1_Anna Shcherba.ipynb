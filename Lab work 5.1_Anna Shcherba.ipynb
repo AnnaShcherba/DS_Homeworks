{
 "cells": [
  {
   "cell_type": "markdown",
   "metadata": {},
   "source": [
    "___\n",
    "\n",
    "<a href='https://mainacademy.ua/'> <img src='https://mainacademy.ua/wp-content/uploads/2019/03/logo-main.png' alt = 'Хмм, щось з інтернетом'/></a>\n",
    "___\n",
    "\n",
    "# Module 5: Data analysis with NumPy and Pandas"
   ]
  },
  {
   "cell_type": "markdown",
   "metadata": {},
   "source": [
    "## Lab work 5.1\n",
    "\n"
   ]
  },
  {
   "cell_type": "markdown",
   "metadata": {},
   "source": [
    "#### Мета: \n",
    "\n",
    "* навчитися працювати із бібліотекою NumPy в Python"
   ]
  },
  {
   "cell_type": "markdown",
   "metadata": {},
   "source": [
    "### Завдання:"
   ]
  },
  {
   "cell_type": "code",
   "execution_count": 2,
   "metadata": {},
   "outputs": [],
   "source": [
    "import numpy as np"
   ]
  },
  {
   "cell_type": "markdown",
   "metadata": {},
   "source": [
    "Вивести версію та конфігурацію бібліотеки:"
   ]
  },
  {
   "cell_type": "code",
   "execution_count": 8,
   "metadata": {},
   "outputs": [
    {
     "name": "stdout",
     "output_type": "stream",
     "text": [
      "Версія бібліотеки NumPy: 1.18.5\n",
      "\n",
      "Конфігурація бібліотеки NumPy:\n",
      "blas_mkl_info:\n",
      "    libraries = ['mkl_rt']\n",
      "    library_dirs = ['C:/Users/anias/anaconda3\\\\Library\\\\lib']\n",
      "    define_macros = [('SCIPY_MKL_H', None), ('HAVE_CBLAS', None)]\n",
      "    include_dirs = ['C:\\\\Program Files (x86)\\\\IntelSWTools\\\\compilers_and_libraries_2019.0.117\\\\windows\\\\mkl', 'C:\\\\Program Files (x86)\\\\IntelSWTools\\\\compilers_and_libraries_2019.0.117\\\\windows\\\\mkl\\\\include', 'C:\\\\Program Files (x86)\\\\IntelSWTools\\\\compilers_and_libraries_2019.0.117\\\\windows\\\\mkl\\\\lib', 'C:/Users/anias/anaconda3\\\\Library\\\\include']\n",
      "blas_opt_info:\n",
      "    libraries = ['mkl_rt']\n",
      "    library_dirs = ['C:/Users/anias/anaconda3\\\\Library\\\\lib']\n",
      "    define_macros = [('SCIPY_MKL_H', None), ('HAVE_CBLAS', None)]\n",
      "    include_dirs = ['C:\\\\Program Files (x86)\\\\IntelSWTools\\\\compilers_and_libraries_2019.0.117\\\\windows\\\\mkl', 'C:\\\\Program Files (x86)\\\\IntelSWTools\\\\compilers_and_libraries_2019.0.117\\\\windows\\\\mkl\\\\include', 'C:\\\\Program Files (x86)\\\\IntelSWTools\\\\compilers_and_libraries_2019.0.117\\\\windows\\\\mkl\\\\lib', 'C:/Users/anias/anaconda3\\\\Library\\\\include']\n",
      "lapack_mkl_info:\n",
      "    libraries = ['mkl_rt']\n",
      "    library_dirs = ['C:/Users/anias/anaconda3\\\\Library\\\\lib']\n",
      "    define_macros = [('SCIPY_MKL_H', None), ('HAVE_CBLAS', None)]\n",
      "    include_dirs = ['C:\\\\Program Files (x86)\\\\IntelSWTools\\\\compilers_and_libraries_2019.0.117\\\\windows\\\\mkl', 'C:\\\\Program Files (x86)\\\\IntelSWTools\\\\compilers_and_libraries_2019.0.117\\\\windows\\\\mkl\\\\include', 'C:\\\\Program Files (x86)\\\\IntelSWTools\\\\compilers_and_libraries_2019.0.117\\\\windows\\\\mkl\\\\lib', 'C:/Users/anias/anaconda3\\\\Library\\\\include']\n",
      "lapack_opt_info:\n",
      "    libraries = ['mkl_rt']\n",
      "    library_dirs = ['C:/Users/anias/anaconda3\\\\Library\\\\lib']\n",
      "    define_macros = [('SCIPY_MKL_H', None), ('HAVE_CBLAS', None)]\n",
      "    include_dirs = ['C:\\\\Program Files (x86)\\\\IntelSWTools\\\\compilers_and_libraries_2019.0.117\\\\windows\\\\mkl', 'C:\\\\Program Files (x86)\\\\IntelSWTools\\\\compilers_and_libraries_2019.0.117\\\\windows\\\\mkl\\\\include', 'C:\\\\Program Files (x86)\\\\IntelSWTools\\\\compilers_and_libraries_2019.0.117\\\\windows\\\\mkl\\\\lib', 'C:/Users/anias/anaconda3\\\\Library\\\\include']\n"
     ]
    }
   ],
   "source": [
    "print(f'Версія бібліотеки NumPy: {np.__version__}\\n')\n",
    "\n",
    "print('Конфігурація бібліотеки NumPy:')\n",
    "np.show_config()"
   ]
  },
  {
   "cell_type": "markdown",
   "metadata": {},
   "source": [
    "Створити вектор з 10 елементів, заповнений одиницями:"
   ]
  },
  {
   "cell_type": "code",
   "execution_count": 14,
   "metadata": {},
   "outputs": [
    {
     "data": {
      "text/plain": [
       "array([1., 1., 1., 1., 1., 1., 1., 1., 1., 1.])"
      ]
     },
     "execution_count": 14,
     "metadata": {},
     "output_type": "execute_result"
    }
   ],
   "source": [
    "z = np.ones(10)\n",
    "z"
   ]
  },
  {
   "cell_type": "markdown",
   "metadata": {},
   "source": [
    "Створити вектор із значеннями від 0 до 10:"
   ]
  },
  {
   "cell_type": "code",
   "execution_count": 15,
   "metadata": {},
   "outputs": [
    {
     "data": {
      "text/plain": [
       "array([ 0,  1,  2,  3,  4,  5,  6,  7,  8,  9, 10])"
      ]
     },
     "execution_count": 15,
     "metadata": {},
     "output_type": "execute_result"
    }
   ],
   "source": [
    "x = np.array(range(11))\n",
    "x"
   ]
  },
  {
   "cell_type": "markdown",
   "metadata": {},
   "source": [
    "Створити матрицю 5 на 5, заповнену нулями:"
   ]
  },
  {
   "cell_type": "code",
   "execution_count": 19,
   "metadata": {},
   "outputs": [
    {
     "data": {
      "text/plain": [
       "array([[0., 0., 0., 0., 0.],\n",
       "       [0., 0., 0., 0., 0.],\n",
       "       [0., 0., 0., 0., 0.],\n",
       "       [0., 0., 0., 0., 0.],\n",
       "       [0., 0., 0., 0., 0.]])"
      ]
     },
     "execution_count": 19,
     "metadata": {},
     "output_type": "execute_result"
    }
   ],
   "source": [
    "m_5_5 = np.zeros((5,5))\n",
    "m_5_5"
   ]
  },
  {
   "cell_type": "markdown",
   "metadata": {},
   "source": [
    "Заповнити вектор з 20 елементів випадковими цілими числами. Знайти індекси ненульових елементів:"
   ]
  },
  {
   "cell_type": "code",
   "execution_count": 12,
   "metadata": {},
   "outputs": [
    {
     "name": "stdout",
     "output_type": "stream",
     "text": [
      "Вектор з цілими числами: [ 16   5   8  -8   1  -8   8 -16  -1  -6  15 -11  11 -12 -20  -4   5 -14\n",
      " -13  12]\n",
      "Індекси ненульових елементів вектора: (array([ 0,  1,  2,  3,  4,  5,  6,  7,  8,  9, 10, 11, 12, 13, 14, 15, 16,\n",
      "       17, 18, 19], dtype=int64),)\n"
     ]
    }
   ],
   "source": [
    "vector_20 = np.random.randint(-20,20,(20))\n",
    "print(f'Вектор з цілими числами: {vector_20}')\n",
    "\n",
    "nonzero_vector_20 = np.nonzero(vector_20)\n",
    "print(f'Індекси ненульових елементів вектора: {nonzero_vector_20}')\n"
   ]
  },
  {
   "cell_type": "markdown",
   "metadata": {},
   "source": [
    "Для вектора із попередньої задачі знайти середнє значення, медіану, стандартне відхилення:"
   ]
  },
  {
   "cell_type": "code",
   "execution_count": 13,
   "metadata": {},
   "outputs": [
    {
     "name": "stdout",
     "output_type": "stream",
     "text": [
      "Середнє значення вектора: -1.6\n",
      "Медіана вектора: -2.5\n",
      "Стандартне відхилення вектора: 10.818502669038816\n"
     ]
    }
   ],
   "source": [
    "mean_vector_20 = np.mean(vector_20)\n",
    "print(f'Середнє значення вектора: {mean_vector_20}')\n",
    "\n",
    "median_vector_20 = np.median(vector_20)\n",
    "print(f'Медіана вектора: {median_vector_20}')\n",
    "\n",
    "nanstd_vector_20 = np.nanstd(vector_20)\n",
    "print(f'Стандартне відхилення вектора: {nanstd_vector_20}')"
   ]
  },
  {
   "cell_type": "markdown",
   "metadata": {},
   "source": [
    "Створити дві матриці випадкових чисел розміром 4х2 та 2х2. Перемножити їх:"
   ]
  },
  {
   "cell_type": "code",
   "execution_count": 23,
   "metadata": {},
   "outputs": [
    {
     "name": "stdout",
     "output_type": "stream",
     "text": [
      "Матриця 4х2: \n",
      " [[  6 -11]\n",
      " [-10 -18]\n",
      " [  7 -17]\n",
      " [-14  14]] \n",
      "\n",
      "Матриця 2х2: \n",
      " [[ 0 -1]\n",
      " [-1 -1]] \n",
      "\n",
      "Результат множення 2-х матриць: \n",
      " [[ 11   5]\n",
      " [ 18  28]\n",
      " [ 17  10]\n",
      " [-14   0]] \n",
      "\n"
     ]
    }
   ],
   "source": [
    "m_4_2 = np.random.randint(-20,20,(4,2))\n",
    "print(f'Матриця 4х2: \\n {m_4_2} \\n')\n",
    "\n",
    "m_2_2 = np.random.randint(-1,1,(2,2))\n",
    "print(f'Матриця 2х2: \\n {m_2_2} \\n')\n",
    "\n",
    "dot_2m = np.dot(m_4_2, m_2_2)\n",
    "print(f'Результат множення 2-х матриць: \\n {dot_2m} \\n')"
   ]
  },
  {
   "cell_type": "markdown",
   "metadata": {},
   "source": [
    "Результуючу матрицю із попередньої задачі перетворити у вектор. Знайти мінімальне та максимальне значення. \n",
    "\n",
    "Максимальне значення замінити на 0:"
   ]
  },
  {
   "cell_type": "code",
   "execution_count": 24,
   "metadata": {},
   "outputs": [
    {
     "name": "stdout",
     "output_type": "stream",
     "text": [
      "Перетворюємо матрицю у вектор: [ 11   5  18  28  17  10 -14   0]\n",
      "Максимальне значення вектора: 28\n",
      "Мінімальне значення вектора: -14\n",
      "Максимальне значення вектора замінюємо на нуль: [ 11   5  18   0  17  10 -14   0]\n"
     ]
    }
   ],
   "source": [
    "reshape_vector=dot_2m.reshape((dot_2m.size))  #(1, dot_2m.size)\n",
    "\n",
    "print(f'Перетворюємо матрицю у вектор: {reshape_vector}')\n",
    "\n",
    "max_vector=np.max(reshape_vector)\n",
    "print(f'Максимальне значення вектора: {max_vector}')\n",
    "\n",
    "min_vector=np.min(reshape_vector)\n",
    "print(f'Мінімальне значення вектора: {min_vector}')\n",
    "\n",
    "reshape_vector[reshape_vector==max_vector]=0\n",
    "print(f'Максимальне значення вектора замінюємо на нуль: {reshape_vector}')"
   ]
  },
  {
   "cell_type": "markdown",
   "metadata": {},
   "source": [
    "Знайдіть кореляцію першого рядка матриці із попереднього завдання із іншими рядками:"
   ]
  },
  {
   "cell_type": "code",
   "execution_count": 41,
   "metadata": {},
   "outputs": [
    {
     "name": "stdout",
     "output_type": "stream",
     "text": [
      "Кореляцію 1-го рядка матриці к 2-му: \n",
      " [[1. 1.]\n",
      " [1. 1.]]\n",
      "Кореляцію 1-го рядка матриці к 3-му: \n",
      " [[1. 1.]\n",
      " [1. 1.]]\n",
      "Кореляцію 1-го рядка матриці к 4-му: \n",
      " [[ 1. -1.]\n",
      " [-1.  1.]]\n"
     ]
    }
   ],
   "source": [
    "# измеряется теснота связей между двух векторов (отражает зашумленность линейной зависимости)\n",
    "corrcoef1_dot_2m = np.corrcoef(dot_2m[0], dot_2m[1])\n",
    "corrcoef2_dot_2m = np.corrcoef(dot_2m[0], dot_2m[2])\n",
    "corrcoef3_dot_2m = np.corrcoef(dot_2m[0], dot_2m[3])\n",
    "print(f'Кореляцію 1-го рядка матриці к 2-му: \\n {corrcoef1_dot_2m}')\n",
    "print(f'Кореляцію 1-го рядка матриці к 3-му: \\n {corrcoef2_dot_2m}')\n",
    "print(f'Кореляцію 1-го рядка матриці к 4-му: \\n {corrcoef3_dot_2m}')"
   ]
  },
  {
   "cell_type": "markdown",
   "metadata": {},
   "source": [
    "Дано матрицю. Знайти ранг матриці:"
   ]
  },
  {
   "cell_type": "code",
   "execution_count": 29,
   "metadata": {},
   "outputs": [
    {
     "data": {
      "text/plain": [
       "3"
      ]
     },
     "execution_count": 29,
     "metadata": {},
     "output_type": "execute_result"
    }
   ],
   "source": [
    "a = np.array([[ 1,  4, 5],\n",
    "              [7, 3, 2],\n",
    "              [9, 16, 1]])\n",
    "\n",
    "rank_a = np.linalg.matrix_rank(a) # макс кол-во линейно-независемых столбцов (строк).\n",
    "rank_a                            # линейно-независимый вектор нельзя выразить через др вектора"
   ]
  },
  {
   "cell_type": "markdown",
   "metadata": {},
   "source": [
    "Знайти визначник матриці:"
   ]
  },
  {
   "cell_type": "code",
   "execution_count": 30,
   "metadata": {},
   "outputs": [
    {
     "data": {
      "text/plain": [
       "440.0000000000002"
      ]
     },
     "execution_count": 30,
     "metadata": {},
     "output_type": "execute_result"
    }
   ],
   "source": [
    "det_a = np.linalg.det(a) # подходит для квадратных матриц\n",
    "det_a"
   ]
  },
  {
   "cell_type": "markdown",
   "metadata": {},
   "source": [
    "Знайти власні значення та власні вектори матриці: "
   ]
  },
  {
   "cell_type": "code",
   "execution_count": 31,
   "metadata": {},
   "outputs": [
    {
     "data": {
      "text/plain": [
       "(array([14.13520334+0.j        , -4.56760167+3.20389947j,\n",
       "        -4.56760167-3.20389947j]),\n",
       " array([[ 0.43131913+0.j        , -0.31386258-0.47450898j,\n",
       "         -0.31386258+0.47450898j],\n",
       "        [ 0.41502436+0.j        , -0.07049527+0.4090732j ,\n",
       "         -0.07049527-0.4090732j ],\n",
       "        [ 0.8010734 +0.j        ,  0.7099444 +0.j        ,\n",
       "          0.7099444 -0.j        ]]))"
      ]
     },
     "execution_count": 31,
     "metadata": {},
     "output_type": "execute_result"
    }
   ],
   "source": [
    "np.linalg.eig(a) # подходит для квадратных матриц"
   ]
  },
  {
   "cell_type": "markdown",
   "metadata": {},
   "source": [
    "Знайдіть число, що найчастіше зустрічається в масиві:"
   ]
  },
  {
   "cell_type": "code",
   "execution_count": 46,
   "metadata": {},
   "outputs": [
    {
     "name": "stdout",
     "output_type": "stream",
     "text": [
      "Масив: [5 2 4 4 6 3 4 9 8 4 4 0 7 7 4 1 1 9 1 1 2 6 2 5 5 5 3 1 0 7 8 0 9 8 2 5 6\n",
      " 2 0 8 4 0 2 3 3 5 2 7 8 5]\n",
      "Число, що найчастіше зустрічається в масиві: 2\n"
     ]
    }
   ],
   "source": [
    "a = np.random.randint(0,10,50)\n",
    "print(f'Масив: {a}')\n",
    "\n",
    "bincount_a = np.bincount(a).argmax() # bincount -возвращает количество вхождений значений в массиве\n",
    "print(f'Число, що найчастіше зустрічається в масиві: {bincount_a}')"
   ]
  },
  {
   "cell_type": "markdown",
   "metadata": {},
   "source": [
    "Виведіть лише парні числа, що діляться на 5:"
   ]
  },
  {
   "cell_type": "code",
   "execution_count": 39,
   "metadata": {},
   "outputs": [
    {
     "name": "stdout",
     "output_type": "stream",
     "text": [
      "[5 1 9 9 1 9 2 9 3 6 9 3 1 7 8 2 7 5 9 5 8 7 8 9 6 1 1 5 7 1 9 4 1 8 7 5 4\n",
      " 3 0 9 0 5 5 1 8 1 0 4 4 6]\n"
     ]
    },
    {
     "data": {
      "text/plain": [
       "array([0, 0, 0])"
      ]
     },
     "execution_count": 39,
     "metadata": {},
     "output_type": "execute_result"
    }
   ],
   "source": [
    "a = np.random.randint(0,10,50)\n",
    "print(a)\n",
    "\n",
    "a[(a % 2 == 0) & (a % 5 == 0)]"
   ]
  },
  {
   "cell_type": "markdown",
   "metadata": {},
   "source": [
    "Розв'яжіть систему рівнянь:\n",
    "$$2x + 5y = 1 $$\n",
    "\n",
    "$$x - 10y = 3  $$\n",
    "   "
   ]
  },
  {
   "cell_type": "code",
   "execution_count": 36,
   "metadata": {},
   "outputs": [
    {
     "name": "stdout",
     "output_type": "stream",
     "text": [
      "[ 1.  -0.2]\n"
     ]
    }
   ],
   "source": [
    "array1 = np.array([[2, 5],[1, -10]])\n",
    "array2 = np.array([1,3])\n",
    "\n",
    "solve_2 = np.linalg.solve(array1, array2)\n",
    "print(solve_2)"
   ]
  }
 ],
 "metadata": {
  "kernelspec": {
   "display_name": "Python 3",
   "language": "python",
   "name": "python3"
  },
  "language_info": {
   "codemirror_mode": {
    "name": "ipython",
    "version": 3
   },
   "file_extension": ".py",
   "mimetype": "text/x-python",
   "name": "python",
   "nbconvert_exporter": "python",
   "pygments_lexer": "ipython3",
   "version": "3.8.3"
  }
 },
 "nbformat": 4,
 "nbformat_minor": 2
}
