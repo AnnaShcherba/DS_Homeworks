{
 "cells": [
  {
   "cell_type": "markdown",
   "metadata": {},
   "source": [
    "## HW_3_МИТНИЦЯ:  \n",
    "Напишіть програму \"Митниця\". Алгоритм її роботи наступний:\n",
    "1. Програма на вхід получає імена людей, що перетинають кордон.\n",
    "2. Ввід закінчується тоді, коли введено слово \"END\".\n",
    "3. При завершені роботи, програма виводить ім’я людини та кількість перетинів кордону. "
   ]
  },
  {
   "cell_type": "code",
   "execution_count": 1,
   "metadata": {},
   "outputs": [
    {
     "name": "stdout",
     "output_type": "stream",
     "text": [
      "Хто перетинає кордон: Alex\n",
      "Хто перетинає кордон: Alex\n",
      "Хто перетинає кордон: Alex\n",
      "Хто перетинає кордон: Ross\n",
      "Хто перетинає кордон: Ross\n",
      "Хто перетинає кордон: Monica\n",
      "Хто перетинає кордон: END\n",
      "Alex  -  3\n",
      "Ross  -  2\n",
      "Monica  -  1\n"
     ]
    }
   ],
   "source": [
    "def add_person(my_dict, name): #функція що буде додавати в словник людину, що перетинає кордон (створюємо самі - розрахунок по ній нижче)\n",
    "    \n",
    "    if name in my_dict:         \n",
    "        my_dict[name]=my_dict[name]+1 #якщо людина перетинає кордон НЕ ВПЕРШЕ, то додаємо 1.\n",
    "        \n",
    "    else:\n",
    "        my_dict[name]=1 #якщо людина перетинає кордон ВПЕРШЕ присвоюємо 1.\n",
    "        \n",
    "dict_with_person={} #база даних людей, що перетинають кордон\n",
    "\n",
    "while True:   #цикл який дозволяє вводити імена людей, що перетинають кордон до поки ми не введемо слово 'END'\n",
    "    name=input('Хто перетинає кордон: ') \n",
    "    \n",
    "    if name == 'END':\n",
    "        break\n",
    "        \n",
    "    add_person(dict_with_person, name) #функція що буде добавати в словник людину, що перетинає кордон (створили раніше)\n",
    "\n",
    "for key in dict_with_person:  \n",
    "    print(key, \" - \", dict_with_person[key])"
   ]
  },
  {
   "cell_type": "code",
   "execution_count": null,
   "metadata": {},
   "outputs": [],
   "source": []
  }
 ],
 "metadata": {
  "kernelspec": {
   "display_name": "Python 3",
   "language": "python",
   "name": "python3"
  },
  "language_info": {
   "codemirror_mode": {
    "name": "ipython",
    "version": 3
   },
   "file_extension": ".py",
   "mimetype": "text/x-python",
   "name": "python",
   "nbconvert_exporter": "python",
   "pygments_lexer": "ipython3",
   "version": "3.8.3"
  }
 },
 "nbformat": 4,
 "nbformat_minor": 4
}
