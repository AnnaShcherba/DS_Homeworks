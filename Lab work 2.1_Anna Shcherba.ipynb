{
 "cells": [
  {
   "cell_type": "markdown",
   "metadata": {},
   "source": [
    "___\n",
    "\n",
    "<a href='https://mainacademy.ua/'> <img src='https://mainacademy.ua/wp-content/uploads/2019/03/logo-main.png' alt = 'Хмм, щось з інтернетом'/></a>\n",
    "___\n",
    "\n",
    "# Module 2: Basic Python"
   ]
  },
  {
   "cell_type": "markdown",
   "metadata": {},
   "source": [
    "## Lab work 2.1\n",
    "\n"
   ]
  },
  {
   "cell_type": "markdown",
   "metadata": {},
   "source": [
    "#### Мета: \n",
    "\n",
    "* навчитися працювати із основними типами та структурами даних в Python;\n",
    "* ознайомитися із базовими алгоритмами;"
   ]
  },
  {
   "cell_type": "markdown",
   "metadata": {},
   "source": [
    "#### Завдання 1"
   ]
  },
  {
   "cell_type": "markdown",
   "metadata": {},
   "source": [
    "Обчислити площу трикутника, коли відома сторона та проведена висота до неї"
   ]
  },
  {
   "cell_type": "code",
   "execution_count": 1,
   "metadata": {},
   "outputs": [
    {
     "name": "stdout",
     "output_type": "stream",
     "text": [
      "Сторона трикутника: 3\n",
      "Висота трикутника: 5\n",
      "Площа трикутника: 7.5\n"
     ]
    }
   ],
   "source": [
    "a = int(input('Сторона трикутника: ')) #задана сторона тркутника\n",
    "h = int(input('Висота трикутника: ')) #задана висота трикутника, що проведена до заданної його сторони\n",
    "\n",
    "S=(a*h*(1/2)) #площа трикутника\n",
    "\n",
    "print(f'Площа трикутника: {S}')"
   ]
  },
  {
   "cell_type": "markdown",
   "metadata": {},
   "source": [
    "#### Завдання 2"
   ]
  },
  {
   "cell_type": "markdown",
   "metadata": {},
   "source": [
    "Дано трицифрове число. Виведіть окремо кожну цифру числа та суми цифр число\n",
    "\n",
    "Реалізуйте завдання двома способами (використовуючи стрічки та оператори `%`, `//`)"
   ]
  },
  {
   "cell_type": "code",
   "execution_count": 7,
   "metadata": {},
   "outputs": [
    {
     "name": "stdout",
     "output_type": "stream",
     "text": [
      "Необхідно ввести трицифрове число: 345\n",
      "Перша цифра заданого числа: 3\n",
      "Друга цифра заданого числа: 4\n",
      "Третя цифра заданого числа: 5\n",
      "Сума цифр заданого числа: 12\n"
     ]
    }
   ],
   "source": [
    "N = input('Необхідно ввести трицифрове число: ') #задаємо трицифрове число\n",
    "\n",
    "number_1=N[0] #виводимо першу цифру числа\n",
    "number_2=N[1] #виводимо другу цифру числа\n",
    "number_3=N[2] #виводимо третю цифру числа\n",
    "\n",
    "s=0 #задаємо нульовий елемент\n",
    "\n",
    "for i in N: \n",
    "    s=s+int(i) #сума цифр числа\n",
    "\n",
    "print(f'Перша цифра заданого числа: {number_1}')\n",
    "print(f'Друга цифра заданого числа: {number_2}')\n",
    "print(f'Третя цифра заданого числа: {number_3}')\n",
    "print(f'Сума цифр заданого числа: {s}')"
   ]
  },
  {
   "cell_type": "code",
   "execution_count": 3,
   "metadata": {},
   "outputs": [
    {
     "name": "stdout",
     "output_type": "stream",
     "text": [
      "Необхідно ввести трицифрове число: 271\n",
      "Перша цифра заданого числа: 2\n",
      "Друга цифра заданого числа: 7\n",
      "Третя цифра заданого числа: 1\n",
      "Сума цифр заданого числа: 10\n"
     ]
    }
   ],
   "source": [
    "N = int(input('Необхідно ввести трицифрове число: ')) #задаємо трицифрове число\n",
    "\n",
    "number__1= N // 100 #виводимо першу цифру числа - вираховуємо цілу частину від ділення\n",
    "number__2= (N // 10) % 10  #виводимо другу цифру числа\n",
    "number__3= N % 10 #виводимо третю цифру числа - знаходимо залишок від ділення\n",
    "\n",
    "S=number__1+number__2+number__3\n",
    "\n",
    "print(f'Перша цифра заданого числа: {number__1}')\n",
    "print(f'Друга цифра заданого числа: {number__2}')\n",
    "print(f'Третя цифра заданого числа: {number__3}')\n",
    "print(f'Сума цифр заданого числа: {S}')"
   ]
  },
  {
   "cell_type": "markdown",
   "metadata": {},
   "source": [
    "#### Завдання 3"
   ]
  },
  {
   "cell_type": "markdown",
   "metadata": {},
   "source": [
    "Дано речення (стрічка). \n",
    "* Розбийте речення по словах і помістіть їх у список. \n",
    "* Виведіть кількість слів у речені.\n",
    "* Утворіть нове речення, що складається з першого та останнього слова із початкового речення."
   ]
  },
  {
   "cell_type": "code",
   "execution_count": 3,
   "metadata": {},
   "outputs": [],
   "source": [
    "sentence = 'My favourite tutor in academy is Ihor'\n"
   ]
  },
  {
   "cell_type": "code",
   "execution_count": 4,
   "metadata": {},
   "outputs": [
    {
     "data": {
      "text/plain": [
       "['My', 'favourite', 'tutor', 'in', 'academy', 'is', 'Ihor']"
      ]
     },
     "execution_count": 4,
     "metadata": {},
     "output_type": "execute_result"
    }
   ],
   "source": [
    "sentence=sentence.split() #метод split розбиває нашу стрічку на частини та повертає частини у вигляді списоку\n",
    "sentence "
   ]
  },
  {
   "cell_type": "code",
   "execution_count": 5,
   "metadata": {},
   "outputs": [
    {
     "data": {
      "text/plain": [
       "7"
      ]
     },
     "execution_count": 5,
     "metadata": {},
     "output_type": "execute_result"
    }
   ],
   "source": [
    "len(sentence) #рахуємо кількість слів у реченні"
   ]
  },
  {
   "cell_type": "code",
   "execution_count": 8,
   "metadata": {},
   "outputs": [
    {
     "data": {
      "text/plain": [
       "'My Ihor'"
      ]
     },
     "execution_count": 8,
     "metadata": {},
     "output_type": "execute_result"
    }
   ],
   "source": [
    "new_sentence = sentence[0]+' '+sentence[-1] #утворюємо нове речення, що скл-ся з першого та останнього слова заданого речення\n",
    "new_sentence"
   ]
  },
  {
   "cell_type": "markdown",
   "metadata": {},
   "source": [
    "#### Завдання 4"
   ]
  },
  {
   "cell_type": "markdown",
   "metadata": {},
   "source": [
    "Перевірте, чи справджується формула: $$ sin^2x + cos^2x = 1$$\n",
    "\n",
    "Напишіть код, що реалізує цю формулу. Нагадую, що тригонометричні функції приймають аргументи в радіанній мірі"
   ]
  },
  {
   "cell_type": "code",
   "execution_count": 13,
   "metadata": {},
   "outputs": [
    {
     "name": "stdout",
     "output_type": "stream",
     "text": [
      "Необхідно ввести значення кута у градусах: 31\n",
      "True\n"
     ]
    }
   ],
   "source": [
    "import math\n",
    "\n",
    "x = math.radians(int(input('Необхідно ввести значення кута у градусах: '))) #переводимо у радіанну міру\n",
    "\n",
    "if math.sin(x)**2 + math.cos(x)**2==1: #перевіряємо тотожність\n",
    "    print(True)\n",
    "    \n",
    "else:\n",
    "    print(False)"
   ]
  },
  {
   "cell_type": "markdown",
   "metadata": {},
   "source": [
    "#### Завдання 5"
   ]
  },
  {
   "cell_type": "markdown",
   "metadata": {},
   "source": [
    "Напишіть програму для обчислення коренів квадратного рівняння.\n",
    "\n",
    "Нагадую, що `n`-го степеня має `n` коренів. (Корені можуть бути комплексні)"
   ]
  },
  {
   "cell_type": "code",
   "execution_count": 9,
   "metadata": {},
   "outputs": [
    {
     "name": "stdout",
     "output_type": "stream",
     "text": [
      "Для квадратного рівняння виду: a*x^2 + b*x + c = 0, задаємо коефіцієнти: \n",
      "Необхідно ввести коефіцієнт рівняння a= 2\n",
      "Необхідно ввести коефіцієнт рівняння b= 4\n",
      "Необхідно ввести коефіцієнт рівняння c= 6\n",
      "Дискримінант= -32.0\n",
      "х_1= (-1+1.4142135623730951j), х_2= (-1-1.4142135623730951j)\n"
     ]
    }
   ],
   "source": [
    "import cmath\n",
    "\n",
    "print('Для квадратного рівняння виду: a*x^2 + b*x + c = 0, задаємо коефіцієнти: ')\n",
    "\n",
    "a = float(input('Необхідно ввести коефіцієнт рівняння a= '))\n",
    "b = float(input('Необхідно ввести коефіцієнт рівняння b= '))\n",
    "c = float(input('Необхідно ввести коефіцієнт рівняння c= '))\n",
    "\n",
    "D = b ** 2 - 4 * a * c   #знаходимо значення дискримінанта (D)\n",
    "\n",
    "if D==0:                 #шукаємо 1 корень\n",
    "    x_1= -b / (2 * a)\n",
    "\n",
    "else:                    #шукаємо 2 корені для варіантів D>0, D<0\n",
    "    х_1= (-b + cmath.sqrt(D)) / (2 * a)\n",
    "    х_2= (-b - cmath.sqrt(D)) / (2 * a) \n",
    "    \n",
    "\n",
    "print(f'Дискримінант= {D}')\n",
    "print(f'х_1= {х_1}, х_2= {х_2}')"
   ]
  },
  {
   "cell_type": "markdown",
   "metadata": {},
   "source": [
    "#### Завдання 6"
   ]
  },
  {
   "cell_type": "markdown",
   "metadata": {},
   "source": [
    "Напишіть програму, що виводить речення: <i>\"Діаметр планети `Planet` дорівнює` Diament`\"</i>, \n",
    "\n",
    "де `Planet` та `Diament` вводить користувач"
   ]
  },
  {
   "cell_type": "code",
   "execution_count": 14,
   "metadata": {},
   "outputs": [
    {
     "name": "stdout",
     "output_type": "stream",
     "text": [
      "Введіть назву планети: Юпітер\n",
      "Введіть діаметр планети: 139820 км\n",
      "Діаметр планети Юпітер дорівнює 139820 км\n"
     ]
    }
   ],
   "source": [
    "Planet=input('Введіть назву планети: ')\n",
    "Diament=input('Введіть діаметр планети: ')\n",
    "print(f'Діаметр планети {Planet} дорівнює {Diament}')"
   ]
  }
 ],
 "metadata": {
  "kernelspec": {
   "display_name": "Python 3",
   "language": "python",
   "name": "python3"
  },
  "language_info": {
   "codemirror_mode": {
    "name": "ipython",
    "version": 3
   },
   "file_extension": ".py",
   "mimetype": "text/x-python",
   "name": "python",
   "nbconvert_exporter": "python",
   "pygments_lexer": "ipython3",
   "version": "3.8.3"
  }
 },
 "nbformat": 4,
 "nbformat_minor": 2
}
