{
 "cells": [
  {
   "cell_type": "markdown",
   "metadata": {},
   "source": [
    "### DS_26 (инфо в Practice 8)"
   ]
  },
  {
   "cell_type": "markdown",
   "metadata": {},
   "source": [
    "### 2. Асоціативні зв'язки (Алгоритм Apriori)"
   ]
  },
  {
   "cell_type": "markdown",
   "metadata": {},
   "source": [
    "### HW: Groceries (только пары: max_length=2, не только пары: min_length=2)"
   ]
  },
  {
   "cell_type": "code",
   "execution_count": 1,
   "metadata": {},
   "outputs": [],
   "source": [
    "import numpy as np\n",
    "import pandas as pd\n",
    "from apyori import apriori # не работает с датафреймом, а надо передавать туда массив (одна транзакция), т.е будет массив массивов "
   ]
  },
  {
   "cell_type": "code",
   "execution_count": 2,
   "metadata": {},
   "outputs": [],
   "source": [
    "# https://drive.google.com/file/d/1y5DYn0dGoSbC22xowBq2d4po6h1JxcTQ/view\n",
    "\n",
    "Groceries_data = pd.read_csv('Groceries.csv', header=None)"
   ]
  },
  {
   "cell_type": "code",
   "execution_count": 3,
   "metadata": {},
   "outputs": [
    {
     "data": {
      "text/html": [
       "<div>\n",
       "<style scoped>\n",
       "    .dataframe tbody tr th:only-of-type {\n",
       "        vertical-align: middle;\n",
       "    }\n",
       "\n",
       "    .dataframe tbody tr th {\n",
       "        vertical-align: top;\n",
       "    }\n",
       "\n",
       "    .dataframe thead th {\n",
       "        text-align: right;\n",
       "    }\n",
       "</style>\n",
       "<table border=\"1\" class=\"dataframe\">\n",
       "  <thead>\n",
       "    <tr style=\"text-align: right;\">\n",
       "      <th></th>\n",
       "      <th>0</th>\n",
       "      <th>1</th>\n",
       "      <th>2</th>\n",
       "      <th>3</th>\n",
       "      <th>4</th>\n",
       "      <th>5</th>\n",
       "      <th>6</th>\n",
       "      <th>7</th>\n",
       "      <th>8</th>\n",
       "      <th>9</th>\n",
       "      <th>...</th>\n",
       "      <th>22</th>\n",
       "      <th>23</th>\n",
       "      <th>24</th>\n",
       "      <th>25</th>\n",
       "      <th>26</th>\n",
       "      <th>27</th>\n",
       "      <th>28</th>\n",
       "      <th>29</th>\n",
       "      <th>30</th>\n",
       "      <th>31</th>\n",
       "    </tr>\n",
       "  </thead>\n",
       "  <tbody>\n",
       "    <tr>\n",
       "      <th>0</th>\n",
       "      <td>citrus fruit</td>\n",
       "      <td>semi-finished bread</td>\n",
       "      <td>margarine</td>\n",
       "      <td>ready soups</td>\n",
       "      <td>NaN</td>\n",
       "      <td>NaN</td>\n",
       "      <td>NaN</td>\n",
       "      <td>NaN</td>\n",
       "      <td>NaN</td>\n",
       "      <td>NaN</td>\n",
       "      <td>...</td>\n",
       "      <td>NaN</td>\n",
       "      <td>NaN</td>\n",
       "      <td>NaN</td>\n",
       "      <td>NaN</td>\n",
       "      <td>NaN</td>\n",
       "      <td>NaN</td>\n",
       "      <td>NaN</td>\n",
       "      <td>NaN</td>\n",
       "      <td>NaN</td>\n",
       "      <td>NaN</td>\n",
       "    </tr>\n",
       "    <tr>\n",
       "      <th>1</th>\n",
       "      <td>tropical fruit</td>\n",
       "      <td>yogurt</td>\n",
       "      <td>coffee</td>\n",
       "      <td>NaN</td>\n",
       "      <td>NaN</td>\n",
       "      <td>NaN</td>\n",
       "      <td>NaN</td>\n",
       "      <td>NaN</td>\n",
       "      <td>NaN</td>\n",
       "      <td>NaN</td>\n",
       "      <td>...</td>\n",
       "      <td>NaN</td>\n",
       "      <td>NaN</td>\n",
       "      <td>NaN</td>\n",
       "      <td>NaN</td>\n",
       "      <td>NaN</td>\n",
       "      <td>NaN</td>\n",
       "      <td>NaN</td>\n",
       "      <td>NaN</td>\n",
       "      <td>NaN</td>\n",
       "      <td>NaN</td>\n",
       "    </tr>\n",
       "    <tr>\n",
       "      <th>2</th>\n",
       "      <td>whole milk</td>\n",
       "      <td>NaN</td>\n",
       "      <td>NaN</td>\n",
       "      <td>NaN</td>\n",
       "      <td>NaN</td>\n",
       "      <td>NaN</td>\n",
       "      <td>NaN</td>\n",
       "      <td>NaN</td>\n",
       "      <td>NaN</td>\n",
       "      <td>NaN</td>\n",
       "      <td>...</td>\n",
       "      <td>NaN</td>\n",
       "      <td>NaN</td>\n",
       "      <td>NaN</td>\n",
       "      <td>NaN</td>\n",
       "      <td>NaN</td>\n",
       "      <td>NaN</td>\n",
       "      <td>NaN</td>\n",
       "      <td>NaN</td>\n",
       "      <td>NaN</td>\n",
       "      <td>NaN</td>\n",
       "    </tr>\n",
       "    <tr>\n",
       "      <th>3</th>\n",
       "      <td>pip fruit</td>\n",
       "      <td>yogurt</td>\n",
       "      <td>cream cheese</td>\n",
       "      <td>meat spreads</td>\n",
       "      <td>NaN</td>\n",
       "      <td>NaN</td>\n",
       "      <td>NaN</td>\n",
       "      <td>NaN</td>\n",
       "      <td>NaN</td>\n",
       "      <td>NaN</td>\n",
       "      <td>...</td>\n",
       "      <td>NaN</td>\n",
       "      <td>NaN</td>\n",
       "      <td>NaN</td>\n",
       "      <td>NaN</td>\n",
       "      <td>NaN</td>\n",
       "      <td>NaN</td>\n",
       "      <td>NaN</td>\n",
       "      <td>NaN</td>\n",
       "      <td>NaN</td>\n",
       "      <td>NaN</td>\n",
       "    </tr>\n",
       "    <tr>\n",
       "      <th>4</th>\n",
       "      <td>other vegetables</td>\n",
       "      <td>whole milk</td>\n",
       "      <td>condensed milk</td>\n",
       "      <td>long life bakery product</td>\n",
       "      <td>NaN</td>\n",
       "      <td>NaN</td>\n",
       "      <td>NaN</td>\n",
       "      <td>NaN</td>\n",
       "      <td>NaN</td>\n",
       "      <td>NaN</td>\n",
       "      <td>...</td>\n",
       "      <td>NaN</td>\n",
       "      <td>NaN</td>\n",
       "      <td>NaN</td>\n",
       "      <td>NaN</td>\n",
       "      <td>NaN</td>\n",
       "      <td>NaN</td>\n",
       "      <td>NaN</td>\n",
       "      <td>NaN</td>\n",
       "      <td>NaN</td>\n",
       "      <td>NaN</td>\n",
       "    </tr>\n",
       "  </tbody>\n",
       "</table>\n",
       "<p>5 rows × 32 columns</p>\n",
       "</div>"
      ],
      "text/plain": [
       "                 0                    1               2   \\\n",
       "0      citrus fruit  semi-finished bread       margarine   \n",
       "1    tropical fruit               yogurt          coffee   \n",
       "2        whole milk                  NaN             NaN   \n",
       "3         pip fruit               yogurt   cream cheese    \n",
       "4  other vegetables           whole milk  condensed milk   \n",
       "\n",
       "                         3    4    5    6    7    8    9   ...   22   23   24  \\\n",
       "0               ready soups  NaN  NaN  NaN  NaN  NaN  NaN  ...  NaN  NaN  NaN   \n",
       "1                       NaN  NaN  NaN  NaN  NaN  NaN  NaN  ...  NaN  NaN  NaN   \n",
       "2                       NaN  NaN  NaN  NaN  NaN  NaN  NaN  ...  NaN  NaN  NaN   \n",
       "3              meat spreads  NaN  NaN  NaN  NaN  NaN  NaN  ...  NaN  NaN  NaN   \n",
       "4  long life bakery product  NaN  NaN  NaN  NaN  NaN  NaN  ...  NaN  NaN  NaN   \n",
       "\n",
       "    25   26   27   28   29   30   31  \n",
       "0  NaN  NaN  NaN  NaN  NaN  NaN  NaN  \n",
       "1  NaN  NaN  NaN  NaN  NaN  NaN  NaN  \n",
       "2  NaN  NaN  NaN  NaN  NaN  NaN  NaN  \n",
       "3  NaN  NaN  NaN  NaN  NaN  NaN  NaN  \n",
       "4  NaN  NaN  NaN  NaN  NaN  NaN  NaN  \n",
       "\n",
       "[5 rows x 32 columns]"
      ]
     },
     "execution_count": 3,
     "metadata": {},
     "output_type": "execute_result"
    }
   ],
   "source": [
    "Groceries_data.head()\n"
   ]
  },
  {
   "cell_type": "code",
   "execution_count": 4,
   "metadata": {},
   "outputs": [
    {
     "data": {
      "text/plain": [
       "(9835, 32)"
      ]
     },
     "execution_count": 4,
     "metadata": {},
     "output_type": "execute_result"
    }
   ],
   "source": [
    "Groceries_data.shape"
   ]
  },
  {
   "cell_type": "code",
   "execution_count": 5,
   "metadata": {},
   "outputs": [],
   "source": [
    "records = []\n",
    "for i in range(Groceries_data.shape[0]):\n",
    "    records.append([str(Groceries_data.values[i,j]) for j in range(Groceries_data.shape[1]) if pd.notna(Groceries_data.values[i, j])])"
   ]
  },
  {
   "cell_type": "code",
   "execution_count": 6,
   "metadata": {
    "scrolled": false
   },
   "outputs": [],
   "source": [
    "association_rules = apriori(records, min_support=0.0045, min_confidence=0.2, min_lift=3, max_length=2) # ставим пороги для показателей модели\n",
    "\n",
    "association_results = list(association_rules)\n",
    "#association_results # получаем итерабельный объект - можем прокручивать в цикле"
   ]
  },
  {
   "cell_type": "code",
   "execution_count": 7,
   "metadata": {},
   "outputs": [],
   "source": [
    "# for item in association_rules:    # коментировать весь массив = CTRL+'.' # Shift +TAB+TAB\n",
    "#     pair = item[0] \n",
    "#     items = [x for x in pair]\n",
    "#     print(\"Rule: \" + items[0] + \" -> \" + items[1] )\n",
    "\n",
    "#     print(\"Support: \" + str(item[1]))\n",
    "\n",
    "#     print(\"Confidence: \" + str(item[2][0][2]))\n",
    "#     print(\"Lift: \" + str(item[2][0][3]))\n",
    "#     #print(\"=====================================\")"
   ]
  },
  {
   "cell_type": "code",
   "execution_count": 8,
   "metadata": {},
   "outputs": [],
   "source": [
    "\n",
    "# for item in association_rules:\n",
    "#     pair = item[0] \n",
    "#     items = [x for x in pair]\n",
    "#     x = [items[0], items[1], str(item[1]), str(item[2][0][2]), str(item[2][0][3])]\n",
    "#     print(x)"
   ]
  },
  {
   "cell_type": "code",
   "execution_count": 9,
   "metadata": {},
   "outputs": [
    {
     "data": {
      "text/plain": [
       "{0: [[frozenset({'baking powder', 'whipped/sour cream'})],\n",
       "  0.004575495678698526,\n",
       "  0.25862068965517243,\n",
       "  3.607850330154072],\n",
       " 1: [[frozenset({'beef', 'root vegetables'})],\n",
       "  0.017386883579054397,\n",
       "  0.3313953488372093,\n",
       "  3.0403668431100312],\n",
       " 2: [[frozenset({'berries', 'whipped/sour cream'})],\n",
       "  0.009049313675648195,\n",
       "  0.27217125382262997,\n",
       "  3.796885505454703],\n",
       " 3: [[frozenset({'bottled beer', 'liquor'})],\n",
       "  0.004677173360447382,\n",
       "  0.4220183486238532,\n",
       "  5.240594013529793],\n",
       " 4: [[frozenset({'bottled beer', 'red/blush wine'})],\n",
       "  0.004880528723945094,\n",
       "  0.253968253968254,\n",
       "  3.1537598204264876],\n",
       " 5: [[frozenset({'flour', 'sugar'})],\n",
       "  0.00498220640569395,\n",
       "  0.28654970760233917,\n",
       "  8.46311223504206],\n",
       " 6: [[frozenset({'herbs', 'root vegetables'})],\n",
       "  0.007015760040671073,\n",
       "  0.43124999999999997,\n",
       "  3.956477378731343],\n",
       " 7: [[frozenset({'sausage', 'sliced cheese'})],\n",
       "  0.007015760040671073,\n",
       "  0.2863070539419087,\n",
       "  3.047434930215013]}"
      ]
     },
     "execution_count": 9,
     "metadata": {},
     "output_type": "execute_result"
    }
   ],
   "source": [
    "dict_= {}\n",
    "i=0\n",
    "for item in association_results:\n",
    "    #pair = item[0] \n",
    "    #items = [x for x in pair]  # [items[0]], items[1]\n",
    "    dict_[i] = [[item[0]], item[1], item[2][0][2], item[2][0][3]]\n",
    "    i=i+1\n",
    "dict_"
   ]
  },
  {
   "cell_type": "code",
   "execution_count": 10,
   "metadata": {},
   "outputs": [
    {
     "data": {
      "text/html": [
       "<div>\n",
       "<style scoped>\n",
       "    .dataframe tbody tr th:only-of-type {\n",
       "        vertical-align: middle;\n",
       "    }\n",
       "\n",
       "    .dataframe tbody tr th {\n",
       "        vertical-align: top;\n",
       "    }\n",
       "\n",
       "    .dataframe thead th {\n",
       "        text-align: right;\n",
       "    }\n",
       "</style>\n",
       "<table border=\"1\" class=\"dataframe\">\n",
       "  <thead>\n",
       "    <tr style=\"text-align: right;\">\n",
       "      <th></th>\n",
       "      <th>0</th>\n",
       "      <th>1</th>\n",
       "      <th>2</th>\n",
       "      <th>3</th>\n",
       "      <th>4</th>\n",
       "      <th>5</th>\n",
       "      <th>6</th>\n",
       "      <th>7</th>\n",
       "    </tr>\n",
       "  </thead>\n",
       "  <tbody>\n",
       "    <tr>\n",
       "      <th>Products</th>\n",
       "      <td>[(baking powder, whipped/sour cream)]</td>\n",
       "      <td>[(beef, root vegetables)]</td>\n",
       "      <td>[(berries, whipped/sour cream)]</td>\n",
       "      <td>[(liquor, bottled beer)]</td>\n",
       "      <td>[(red/blush wine, bottled beer)]</td>\n",
       "      <td>[(sugar, flour)]</td>\n",
       "      <td>[(root vegetables, herbs)]</td>\n",
       "      <td>[(sliced cheese, sausage)]</td>\n",
       "    </tr>\n",
       "    <tr>\n",
       "      <th>Support</th>\n",
       "      <td>0.0045755</td>\n",
       "      <td>0.0173869</td>\n",
       "      <td>0.00904931</td>\n",
       "      <td>0.00467717</td>\n",
       "      <td>0.00488053</td>\n",
       "      <td>0.00498221</td>\n",
       "      <td>0.00701576</td>\n",
       "      <td>0.00701576</td>\n",
       "    </tr>\n",
       "    <tr>\n",
       "      <th>Confidence</th>\n",
       "      <td>0.258621</td>\n",
       "      <td>0.331395</td>\n",
       "      <td>0.272171</td>\n",
       "      <td>0.422018</td>\n",
       "      <td>0.253968</td>\n",
       "      <td>0.28655</td>\n",
       "      <td>0.43125</td>\n",
       "      <td>0.286307</td>\n",
       "    </tr>\n",
       "    <tr>\n",
       "      <th>Lift</th>\n",
       "      <td>3.60785</td>\n",
       "      <td>3.04037</td>\n",
       "      <td>3.79689</td>\n",
       "      <td>5.24059</td>\n",
       "      <td>3.15376</td>\n",
       "      <td>8.46311</td>\n",
       "      <td>3.95648</td>\n",
       "      <td>3.04743</td>\n",
       "    </tr>\n",
       "  </tbody>\n",
       "</table>\n",
       "</div>"
      ],
      "text/plain": [
       "                                                0                          1  \\\n",
       "Products    [(baking powder, whipped/sour cream)]  [(beef, root vegetables)]   \n",
       "Support                                 0.0045755                  0.0173869   \n",
       "Confidence                               0.258621                   0.331395   \n",
       "Lift                                      3.60785                    3.04037   \n",
       "\n",
       "                                          2                         3  \\\n",
       "Products    [(berries, whipped/sour cream)]  [(liquor, bottled beer)]   \n",
       "Support                          0.00904931                0.00467717   \n",
       "Confidence                         0.272171                  0.422018   \n",
       "Lift                                3.79689                   5.24059   \n",
       "\n",
       "                                           4                 5  \\\n",
       "Products    [(red/blush wine, bottled beer)]  [(sugar, flour)]   \n",
       "Support                           0.00488053        0.00498221   \n",
       "Confidence                          0.253968           0.28655   \n",
       "Lift                                 3.15376           8.46311   \n",
       "\n",
       "                                     6                           7  \n",
       "Products    [(root vegetables, herbs)]  [(sliced cheese, sausage)]  \n",
       "Support                     0.00701576                  0.00701576  \n",
       "Confidence                     0.43125                    0.286307  \n",
       "Lift                           3.95648                     3.04743  "
      ]
     },
     "execution_count": 10,
     "metadata": {},
     "output_type": "execute_result"
    }
   ],
   "source": [
    "df = pd.DataFrame(dict_, index =['Products', 'Support', 'Confidence', 'Lift'] )   #.reset_index()\n",
    "df"
   ]
  },
  {
   "cell_type": "code",
   "execution_count": 11,
   "metadata": {},
   "outputs": [
    {
     "data": {
      "text/html": [
       "<div>\n",
       "<style scoped>\n",
       "    .dataframe tbody tr th:only-of-type {\n",
       "        vertical-align: middle;\n",
       "    }\n",
       "\n",
       "    .dataframe tbody tr th {\n",
       "        vertical-align: top;\n",
       "    }\n",
       "\n",
       "    .dataframe thead th {\n",
       "        text-align: right;\n",
       "    }\n",
       "</style>\n",
       "<table border=\"1\" class=\"dataframe\">\n",
       "  <thead>\n",
       "    <tr style=\"text-align: right;\">\n",
       "      <th></th>\n",
       "      <th>Products</th>\n",
       "      <th>Support</th>\n",
       "      <th>Confidence</th>\n",
       "      <th>Lift</th>\n",
       "    </tr>\n",
       "  </thead>\n",
       "  <tbody>\n",
       "    <tr>\n",
       "      <th>0</th>\n",
       "      <td>[(baking powder, whipped/sour cream)]</td>\n",
       "      <td>0.0045755</td>\n",
       "      <td>0.258621</td>\n",
       "      <td>3.60785</td>\n",
       "    </tr>\n",
       "    <tr>\n",
       "      <th>1</th>\n",
       "      <td>[(beef, root vegetables)]</td>\n",
       "      <td>0.0173869</td>\n",
       "      <td>0.331395</td>\n",
       "      <td>3.04037</td>\n",
       "    </tr>\n",
       "    <tr>\n",
       "      <th>2</th>\n",
       "      <td>[(berries, whipped/sour cream)]</td>\n",
       "      <td>0.00904931</td>\n",
       "      <td>0.272171</td>\n",
       "      <td>3.79689</td>\n",
       "    </tr>\n",
       "    <tr>\n",
       "      <th>3</th>\n",
       "      <td>[(liquor, bottled beer)]</td>\n",
       "      <td>0.00467717</td>\n",
       "      <td>0.422018</td>\n",
       "      <td>5.24059</td>\n",
       "    </tr>\n",
       "    <tr>\n",
       "      <th>4</th>\n",
       "      <td>[(red/blush wine, bottled beer)]</td>\n",
       "      <td>0.00488053</td>\n",
       "      <td>0.253968</td>\n",
       "      <td>3.15376</td>\n",
       "    </tr>\n",
       "    <tr>\n",
       "      <th>5</th>\n",
       "      <td>[(sugar, flour)]</td>\n",
       "      <td>0.00498221</td>\n",
       "      <td>0.28655</td>\n",
       "      <td>8.46311</td>\n",
       "    </tr>\n",
       "    <tr>\n",
       "      <th>6</th>\n",
       "      <td>[(root vegetables, herbs)]</td>\n",
       "      <td>0.00701576</td>\n",
       "      <td>0.43125</td>\n",
       "      <td>3.95648</td>\n",
       "    </tr>\n",
       "    <tr>\n",
       "      <th>7</th>\n",
       "      <td>[(sliced cheese, sausage)]</td>\n",
       "      <td>0.00701576</td>\n",
       "      <td>0.286307</td>\n",
       "      <td>3.04743</td>\n",
       "    </tr>\n",
       "  </tbody>\n",
       "</table>\n",
       "</div>"
      ],
      "text/plain": [
       "                                Products     Support Confidence     Lift\n",
       "0  [(baking powder, whipped/sour cream)]   0.0045755   0.258621  3.60785\n",
       "1              [(beef, root vegetables)]   0.0173869   0.331395  3.04037\n",
       "2        [(berries, whipped/sour cream)]  0.00904931   0.272171  3.79689\n",
       "3               [(liquor, bottled beer)]  0.00467717   0.422018  5.24059\n",
       "4       [(red/blush wine, bottled beer)]  0.00488053   0.253968  3.15376\n",
       "5                       [(sugar, flour)]  0.00498221    0.28655  8.46311\n",
       "6             [(root vegetables, herbs)]  0.00701576    0.43125  3.95648\n",
       "7             [(sliced cheese, sausage)]  0.00701576   0.286307  3.04743"
      ]
     },
     "execution_count": 11,
     "metadata": {},
     "output_type": "execute_result"
    }
   ],
   "source": [
    "df = pd.DataFrame(dict_, index =['Products', 'Support', 'Confidence', 'Lift'] ).T    #.reset_index()\n",
    "df"
   ]
  },
  {
   "cell_type": "code",
   "execution_count": 13,
   "metadata": {},
   "outputs": [
    {
     "data": {
      "text/html": [
       "<div>\n",
       "<style scoped>\n",
       "    .dataframe tbody tr th:only-of-type {\n",
       "        vertical-align: middle;\n",
       "    }\n",
       "\n",
       "    .dataframe tbody tr th {\n",
       "        vertical-align: top;\n",
       "    }\n",
       "\n",
       "    .dataframe thead th {\n",
       "        text-align: right;\n",
       "    }\n",
       "</style>\n",
       "<table border=\"1\" class=\"dataframe\">\n",
       "  <thead>\n",
       "    <tr style=\"text-align: right;\">\n",
       "      <th></th>\n",
       "      <th>Products</th>\n",
       "      <th>Support</th>\n",
       "      <th>Confidence</th>\n",
       "      <th>Lift</th>\n",
       "    </tr>\n",
       "  </thead>\n",
       "  <tbody>\n",
       "    <tr>\n",
       "      <th>1</th>\n",
       "      <td>[(beef, root vegetables)]</td>\n",
       "      <td>0.0173869</td>\n",
       "      <td>0.331395</td>\n",
       "      <td>3.04037</td>\n",
       "    </tr>\n",
       "    <tr>\n",
       "      <th>2</th>\n",
       "      <td>[(berries, whipped/sour cream)]</td>\n",
       "      <td>0.00904931</td>\n",
       "      <td>0.272171</td>\n",
       "      <td>3.79689</td>\n",
       "    </tr>\n",
       "    <tr>\n",
       "      <th>6</th>\n",
       "      <td>[(root vegetables, herbs)]</td>\n",
       "      <td>0.00701576</td>\n",
       "      <td>0.43125</td>\n",
       "      <td>3.95648</td>\n",
       "    </tr>\n",
       "  </tbody>\n",
       "</table>\n",
       "</div>"
      ],
      "text/plain": [
       "                          Products     Support Confidence     Lift\n",
       "1        [(beef, root vegetables)]   0.0173869   0.331395  3.04037\n",
       "2  [(berries, whipped/sour cream)]  0.00904931   0.272171  3.79689\n",
       "6       [(root vegetables, herbs)]  0.00701576    0.43125  3.95648"
      ]
     },
     "execution_count": 13,
     "metadata": {},
     "output_type": "execute_result"
    }
   ],
   "source": [
    "# Выводим топ-3 пар продуктов -> max support\n",
    "\n",
    "df.sort_values('Support', ascending=False, inplace=True)\n",
    "df.head(3)"
   ]
  },
  {
   "cell_type": "code",
   "execution_count": 22,
   "metadata": {},
   "outputs": [],
   "source": [
    "df.to_excel('top3_pairs.xlsx')"
   ]
  },
  {
   "cell_type": "code",
   "execution_count": null,
   "metadata": {},
   "outputs": [],
   "source": []
  },
  {
   "cell_type": "code",
   "execution_count": 15,
   "metadata": {},
   "outputs": [
    {
     "data": {
      "text/plain": [
       "array(['citrus fruit', 'semi-finished bread', 'margarine', ..., nan, nan,\n",
       "       nan], dtype=object)"
      ]
     },
     "execution_count": 15,
     "metadata": {},
     "output_type": "execute_result"
    }
   ],
   "source": [
    "# Для получения топ-3 продукта делаем ряд преобразований:\n",
    "\n",
    "# Преобразовываем в одномерный массив Groceries_data:\n",
    "\n",
    "Groceries_data_2 = Groceries_data.to_numpy().reshape(-1)\n",
    "Groceries_data_2"
   ]
  },
  {
   "cell_type": "code",
   "execution_count": 16,
   "metadata": {},
   "outputs": [
    {
     "data": {
      "text/plain": [
       "0                citrus fruit\n",
       "1         semi-finished bread\n",
       "2                   margarine\n",
       "3                 ready soups\n",
       "4                         NaN\n",
       "                 ...         \n",
       "314715                    NaN\n",
       "314716                    NaN\n",
       "314717                    NaN\n",
       "314718                    NaN\n",
       "314719                    NaN\n",
       "Length: 314720, dtype: object"
      ]
     },
     "execution_count": 16,
     "metadata": {},
     "output_type": "execute_result"
    }
   ],
   "source": [
    "# Преобразовываем массив в Series:\n",
    "\n",
    "series_1 = pd.Series(Groceries_data_2)\n",
    "series_1"
   ]
  },
  {
   "cell_type": "code",
   "execution_count": 17,
   "metadata": {},
   "outputs": [
    {
     "data": {
      "text/plain": [
       "0                citrus fruit\n",
       "1         semi-finished bread\n",
       "2                   margarine\n",
       "3                 ready soups\n",
       "32             tropical fruit\n",
       "                 ...         \n",
       "314688                chicken\n",
       "314689         tropical fruit\n",
       "314690       other vegetables\n",
       "314691                vinegar\n",
       "314692          shopping bags\n",
       "Length: 43367, dtype: object"
      ]
     },
     "execution_count": 17,
     "metadata": {},
     "output_type": "execute_result"
    }
   ],
   "source": [
    "# Удаляем nan:\n",
    "\n",
    "series_1.dropna(inplace=True)\n",
    "series_1"
   ]
  },
  {
   "cell_type": "code",
   "execution_count": 19,
   "metadata": {},
   "outputs": [
    {
     "data": {
      "text/plain": [
       "whole milk          2513\n",
       "other vegetables    1903\n",
       "rolls/buns          1809\n",
       "dtype: int64"
      ]
     },
     "execution_count": 19,
     "metadata": {},
     "output_type": "execute_result"
    }
   ],
   "source": [
    "# Выводим топ-3 продукта:\n",
    "\n",
    "series_1.value_counts()[:3]"
   ]
  }
 ],
 "metadata": {
  "kernelspec": {
   "display_name": "Python 3",
   "language": "python",
   "name": "python3"
  },
  "language_info": {
   "codemirror_mode": {
    "name": "ipython",
    "version": 3
   },
   "file_extension": ".py",
   "mimetype": "text/x-python",
   "name": "python",
   "nbconvert_exporter": "python",
   "pygments_lexer": "ipython3",
   "version": "3.8.3"
  }
 },
 "nbformat": 4,
 "nbformat_minor": 4
}
