{
 "cells": [
  {
   "cell_type": "markdown",
   "metadata": {},
   "source": [
    "### DS_1_Задача 5\n",
    "Користувач вводить 2 букви. Визначити:\n",
    "1. На яких місцях алфавіту вони стоять.\n",
    "2. Скільки між ними знаходиться букв.\n",
    ">Використати: ord, chr і https://uk.wikipedia.org/wiki/ASCII"
   ]
  },
  {
   "cell_type": "code",
   "execution_count": 1,
   "metadata": {},
   "outputs": [
    {
     "name": "stdout",
     "output_type": "stream",
     "text": [
      "b\n",
      "e\n",
      "Порядковий номер b = 98\n",
      "Порядковий номер e = 101\n",
      "Кількість букв між ними: 2\n"
     ]
    }
   ],
   "source": [
    "letter_1=input()\n",
    "letter_2=input()\n",
    "\n",
    "import string\n",
    "st=string.ascii_lowercase\n",
    "\n",
    "ord1=ord(letter_1)\n",
    "ord2=ord(letter_2)\n",
    "\n",
    "start=st.find(letter_1)\n",
    "end=st.find(letter_2)\n",
    "\n",
    "number_of_letters=len(st[start+1:end])\n",
    "\n",
    "print(f'Порядковий номер {letter_1} = {ord1}')\n",
    "print(f'Порядковий номер {letter_2} = {ord2}')\n",
    "print(f'Кількість букв між ними: {number_of_letters}')"
   ]
  }
 ],
 "metadata": {
  "kernelspec": {
   "display_name": "Python 3",
   "language": "python",
   "name": "python3"
  },
  "language_info": {
   "codemirror_mode": {
    "name": "ipython",
    "version": 3
   },
   "file_extension": ".py",
   "mimetype": "text/x-python",
   "name": "python",
   "nbconvert_exporter": "python",
   "pygments_lexer": "ipython3",
   "version": "3.8.3"
  }
 },
 "nbformat": 4,
 "nbformat_minor": 4
}
