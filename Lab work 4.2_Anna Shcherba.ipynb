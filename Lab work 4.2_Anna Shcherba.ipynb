{
 "cells": [
  {
   "cell_type": "markdown",
   "metadata": {},
   "source": [
    "### Завдання 0"
   ]
  },
  {
   "cell_type": "code",
   "execution_count": 2,
   "metadata": {},
   "outputs": [],
   "source": [
    "# Підключаємось до БД:\n",
    "\n",
    "import sqlite3                          # подключаемся к библиотеке\n",
    "\n",
    "def result(sql_text):                   # создаем функцию для коннекта с нашей БД и вывода результатов\n",
    "    conn = sqlite3.connect('tysql.sqlite')  \n",
    "    curs = conn.cursor()                # создаем объект курсор\n",
    "    curs.execute(sql_text)              # выполняем запрос\n",
    "\n",
    "    for row in curs.fetchall():         # черех цикл получаем результаты запроса и выводим результаты на печать\n",
    "        print(row)                      # функция принтует, поэтому return не нужен\n",
    "    \n",
    "    conn.close()"
   ]
  },
  {
   "cell_type": "code",
   "execution_count": 3,
   "metadata": {},
   "outputs": [
    {
     "name": "stdout",
     "output_type": "stream",
     "text": [
      "('table', 'Customers', 'Customers', 2, 'CREATE TABLE Customers\\n(\\n  cust_id      char(10)  NOT NULL ,\\n  cust_name    char(50)  NOT NULL ,\\n  cust_address char(50)  NULL ,\\n  cust_city    char(50)  NULL ,\\n  cust_state   char(5)   NULL ,\\n  cust_zip     char(10)  NULL ,\\n  cust_country char(50)  NULL ,\\n  cust_contact char(50)  NULL ,\\n  cust_email   char(255) NULL ,\\n  PRIMARY KEY (cust_id)\\n)')\n",
      "('index', 'sqlite_autoindex_Customers_1', 'Customers', 3, None)\n",
      "('table', 'OrderItems', 'OrderItems', 4, 'CREATE TABLE OrderItems\\n(\\n  order_num  int          NOT NULL                      ,\\n  order_item int          NOT NULL                      ,\\n  prod_id    char(10)     NOT NULL                      ,\\n  quantity   int          NOT NULL                      ,\\n  item_price decimal(8,2) NOT NULL                      ,\\n  PRIMARY KEY (order_num, order_item)                   ,\\n  FOREIGN KEY (order_num) REFERENCES Orders (order_num) ,\\n  FOREIGN KEY (prod_id) REFERENCES Products (prod_id)\\n)')\n",
      "('index', 'sqlite_autoindex_OrderItems_1', 'OrderItems', 5, None)\n",
      "('table', 'Orders', 'Orders', 7, 'CREATE TABLE Orders\\n(\\n  order_num  int      NOT NULL ,\\n  order_date datetime NOT NULL ,\\n  cust_id    char(10) NOT NULL ,\\n  PRIMARY KEY (order_num)      ,\\n  FOREIGN KEY (cust_id) REFERENCES Customers (cust_id)\\n)')\n",
      "('index', 'sqlite_autoindex_Orders_1', 'Orders', 9, None)\n",
      "('table', 'Products', 'Products', 10, 'CREATE TABLE Products\\n(\\n  prod_id    char(10)      NOT NULL ,\\n  vend_id    char(10)      NOT NULL ,\\n  prod_name  char(255)     NOT NULL ,\\n  prod_price decimal(8,2)  NOT NULL ,\\n  prod_desc  text          NULL     ,\\n  PRIMARY KEY (prod_id)             ,\\n  FOREIGN KEY (vend_id) REFERENCES Vendors (vend_id)\\n)')\n",
      "('index', 'sqlite_autoindex_Products_1', 'Products', 11, None)\n",
      "('table', 'Vendors', 'Vendors', 12, 'CREATE TABLE Vendors\\n(\\n  vend_id      char(10) NOT NULL ,\\n  vend_name    char(50) NOT NULL ,\\n  vend_address char(50) NULL     ,\\n  vend_city    char(50) NULL     ,\\n  vend_state   char(5)  NULL     ,\\n  vend_zip     char(10) NULL     ,\\n  vend_country char(50) NULL     ,\\n  PRIMARY KEY (vend_id)\\n)')\n",
      "('index', 'sqlite_autoindex_Vendors_1', 'Vendors', 13, None)\n"
     ]
    }
   ],
   "source": [
    "# Виводимо інформацію про БД:\n",
    "\n",
    "info_database = \"SELECT * FROM sqlite_master\"\n",
    "result(info_database)"
   ]
  },
  {
   "cell_type": "code",
   "execution_count": 4,
   "metadata": {},
   "outputs": [
    {
     "name": "stdout",
     "output_type": "stream",
     "text": [
      "('Customers',)\n",
      "('OrderItems',)\n",
      "('Orders',)\n",
      "('Products',)\n",
      "('Vendors',)\n"
     ]
    }
   ],
   "source": [
    "# Виводимо перелік всіх таблиць БД:\n",
    "\n",
    "list_tables = \"SELECT name FROM sqlite_master WHERE type = 'table'\"\n",
    "result(list_tables)"
   ]
  },
  {
   "cell_type": "code",
   "execution_count": 20,
   "metadata": {},
   "outputs": [
    {
     "name": "stdout",
     "output_type": "stream",
     "text": [
      "Customers:\n",
      "(0, 'cust_id', 'char(10)', 1, None, 1)\n",
      "(1, 'cust_name', 'char(50)', 1, None, 0)\n",
      "(2, 'cust_address', 'char(50)', 0, None, 0)\n",
      "(3, 'cust_city', 'char(50)', 0, None, 0)\n",
      "(4, 'cust_state', 'char(5)', 0, None, 0)\n",
      "(5, 'cust_zip', 'char(10)', 0, None, 0)\n",
      "(6, 'cust_country', 'char(50)', 0, None, 0)\n",
      "(7, 'cust_contact', 'char(50)', 0, None, 0)\n",
      "(8, 'cust_email', 'char(255)', 0, None, 0)\n",
      "\n",
      " OrderItems:\n",
      "(0, 'order_num', 'int', 1, None, 1)\n",
      "(1, 'order_item', 'int', 1, None, 2)\n",
      "(2, 'prod_id', 'char(10)', 1, None, 0)\n",
      "(3, 'quantity', 'int', 1, None, 0)\n",
      "(4, 'item_price', 'decimal(8,2)', 1, None, 0)\n",
      "\n",
      " Orders:\n",
      "(0, 'order_num', 'int', 1, None, 1)\n",
      "(1, 'order_date', 'datetime', 1, None, 0)\n",
      "(2, 'cust_id', 'char(10)', 1, None, 0)\n",
      "\n",
      " Products:\n",
      "(0, 'prod_id', 'char(10)', 1, None, 1)\n",
      "(1, 'vend_id', 'char(10)', 1, None, 0)\n",
      "(2, 'prod_name', 'char(255)', 1, None, 0)\n",
      "(3, 'prod_price', 'decimal(8,2)', 1, None, 0)\n",
      "(4, 'prod_desc', 'text', 0, None, 0)\n",
      "\n",
      " Vendors:\n",
      "(0, 'vend_id', 'char(10)', 1, None, 1)\n",
      "(1, 'vend_name', 'char(50)', 1, None, 0)\n",
      "(2, 'vend_address', 'char(50)', 0, None, 0)\n",
      "(3, 'vend_city', 'char(50)', 0, None, 0)\n",
      "(4, 'vend_state', 'char(5)', 0, None, 0)\n",
      "(5, 'vend_zip', 'char(10)', 0, None, 0)\n",
      "(6, 'vend_country', 'char(50)', 0, None, 0)\n"
     ]
    }
   ],
   "source": [
    "# Виводимо схему даних БД:\n",
    "\n",
    "print('Customers:')\n",
    "data_schema_Customers = \"PRAGMA table_info (Customers)\"\n",
    "result(data_schema_Customers)\n",
    "\n",
    "print('\\n OrderItems:')\n",
    "data_schema_OrderItems = \"PRAGMA table_info (OrderItems)\"\n",
    "result(data_schema_OrderItems)\n",
    "\n",
    "print('\\n Orders:')\n",
    "data_schema_Orders = \"PRAGMA table_info (Orders)\"\n",
    "result(data_schema_Orders)\n",
    "\n",
    "print('\\n Products:')\n",
    "data_schema_Products = \"PRAGMA table_info (Products)\"\n",
    "result(data_schema_Products)\n",
    "\n",
    "print('\\n Vendors:')\n",
    "data_schema_Vendors = \"PRAGMA table_info (Vendors)\"\n",
    "result(data_schema_Vendors)"
   ]
  },
  {
   "cell_type": "markdown",
   "metadata": {},
   "source": [
    "### Завдання 1"
   ]
  },
  {
   "cell_type": "code",
   "execution_count": 22,
   "metadata": {},
   "outputs": [
    {
     "name": "stdout",
     "output_type": "stream",
     "text": [
      "('1000000001',)\n",
      "('1000000002',)\n",
      "('1000000003',)\n",
      "('1000000004',)\n",
      "('1000000005',)\n"
     ]
    }
   ],
   "source": [
    "# Вивести список всіх cust_id з таблиці Customers:\n",
    "\n",
    "list_cust_id = \"\"\" SELECT cust_id FROM Customers \"\"\"\n",
    "result(list_cust_id)"
   ]
  },
  {
   "cell_type": "code",
   "execution_count": 25,
   "metadata": {},
   "outputs": [
    {
     "name": "stdout",
     "output_type": "stream",
     "text": [
      "Customers:\n",
      "('1000000001', 'Village Toys', '200 Maple Lane', 'Detroit', 'MI', '44444', 'USA', 'John Smith', 'sales@villagetoys.com')\n",
      "('1000000002', 'Kids Place', '333 South Lake Drive', 'Columbus', 'OH', '43333', 'USA', 'Michelle Green', None)\n",
      "('1000000003', 'Fun4All', '1 Sunny Place', 'Muncie', 'IN', '42222', 'USA', 'Jim Jones', 'jjones@fun4all.com')\n",
      "('1000000004', 'Fun4All', '829 Riverside Drive', 'Phoenix', 'AZ', '88888', 'USA', 'Denise L. Stephens', 'dstephens@fun4all.com')\n",
      "('1000000005', 'The Toy Store', '4545 53rd Street', 'Chicago', 'IL', '54545', 'USA', 'Kim Howard', None)\n"
     ]
    }
   ],
   "source": [
    "# Виводимо всю таблицю Customers:\n",
    "\n",
    "print('Customers:')\n",
    "Customers = \"\"\" SELECT * FROM Customers \"\"\"\n",
    "result(Customers)"
   ]
  },
  {
   "cell_type": "code",
   "execution_count": 39,
   "metadata": {},
   "outputs": [
    {
     "name": "stdout",
     "output_type": "stream",
     "text": [
      "Cписок клієнтів (cust_name) відсортованих від Z до A:\n",
      "('Village Toys',)\n",
      "('The Toy Store',)\n",
      "('Kids Place',)\n",
      "('Fun4All',)\n",
      "('Fun4All',)\n"
     ]
    }
   ],
   "source": [
    "# Вивести cписок клієнтів (cust_name) відсортованих від Z до A:\n",
    "\n",
    "print('Cписок клієнтів (cust_name) відсортованих від Z до A:')\n",
    "list_Customers = \"\"\" SELECT cust_name FROM Customers ORDER BY cust_name DESC \"\"\"\n",
    "result(list_Customers)"
   ]
  },
  {
   "cell_type": "code",
   "execution_count": 29,
   "metadata": {},
   "outputs": [
    {
     "name": "stdout",
     "output_type": "stream",
     "text": [
      "Таблиця клієнтів та замовлень (cust_id, order_num), що відсортована по клієнту та даті замовлення\n",
      "('1000000001', 20009)\n",
      "('1000000001', 20005)\n",
      "('1000000003', 20006)\n",
      "('1000000004', 20007)\n",
      "('1000000005', 20008)\n"
     ]
    }
   ],
   "source": [
    "# Виводимо таблицю клієнтів та замовлень (cust_id, order_num), що відсортована по клієнту та даті замовлення:\n",
    "\n",
    "print('Таблиця клієнтів та замовлень (cust_id, order_num), що відсортована по клієнту та даті замовлення')\n",
    "Customers_orders = \"\"\" SELECT cust_id, order_num FROM Orders ORDER BY cust_id, order_date \"\"\"\n",
    "result(Customers_orders)"
   ]
  },
  {
   "cell_type": "code",
   "execution_count": 30,
   "metadata": {},
   "outputs": [
    {
     "name": "stdout",
     "output_type": "stream",
     "text": [
      "Таблиця з кількістю та вартістю товару, що відсортована в порядку спадання по кількості та вартості товару\n",
      "(250, 2.49)\n",
      "(250, 2.49)\n",
      "(250, 2.49)\n",
      "(100, 10.99)\n",
      "(100, 5.49)\n",
      "(100, 2.99)\n",
      "(100, 2.99)\n",
      "(100, 2.99)\n",
      "(50, 11.49)\n",
      "(50, 4.49)\n",
      "(20, 5.99)\n",
      "(10, 11.99)\n",
      "(10, 8.99)\n",
      "(10, 3.49)\n",
      "(10, 3.49)\n",
      "(10, 3.49)\n",
      "(5, 11.99)\n",
      "(5, 4.99)\n"
     ]
    }
   ],
   "source": [
    "# Виводимо таблицю (на основі Items) з кількістю та вартістю товару.\n",
    "# Відсортована в порядку спадання по кількості та вартості товару:\n",
    "\n",
    "print('Таблиця з кількістю та вартістю товару, що відсортована в порядку спадання по кількості та вартості товару')\n",
    "Items = \"\"\" SELECT quantity, item_price FROM OrderItems ORDER BY quantity DESC, item_price DESC \"\"\"\n",
    "result(Items)"
   ]
  },
  {
   "cell_type": "code",
   "execution_count": 33,
   "metadata": {},
   "outputs": [
    {
     "name": "stdout",
     "output_type": "stream",
     "text": [
      "Товари, ціна яких становить 9.49:\n",
      "('King doll', 9.49)\n",
      "('Queen doll', 9.49)\n"
     ]
    }
   ],
   "source": [
    "# Виводимо товари з таблиці Products, ціна яких становить 9.49:\n",
    "\n",
    "print('Товари, ціна яких становить 9.49:')\n",
    "Product_1 = \"\"\" SELECT prod_name, prod_price FROM Products WHERE prod_price = 9.49 \"\"\"\n",
    "result(Product_1)"
   ]
  },
  {
   "cell_type": "code",
   "execution_count": 36,
   "metadata": {},
   "outputs": [
    {
     "name": "stdout",
     "output_type": "stream",
     "text": [
      "Товари, ціна яких від 3 до 6, відсортовані в порядку зростання:\n",
      "('Fish bean bag toy', 3.49)\n",
      "('Bird bean bag toy', 3.49)\n",
      "('Rabbit bean bag toy', 3.49)\n",
      "('Raggedy Ann', 4.99)\n",
      "('8 inch teddy bear', 5.99)\n"
     ]
    }
   ],
   "source": [
    "# Виводимо назву товару та ціну яка лежить в діапозоні від 3 до 6.\n",
    "# Результат відсортован в порядку зростання по ціні товару:\n",
    "\n",
    "print('Товари, ціна яких від 3 до 6, відсортовані в порядку зростання:')\n",
    "Product_2 = \"\"\" SELECT prod_name, prod_price FROM Products WHERE prod_price BETWEEN 3 AND 6 ORDER BY prod_price \"\"\"\n",
    "result(Product_2)"
   ]
  },
  {
   "cell_type": "markdown",
   "metadata": {},
   "source": [
    "### Завдання 2"
   ]
  },
  {
   "cell_type": "code",
   "execution_count": 38,
   "metadata": {},
   "outputs": [
    {
     "name": "stdout",
     "output_type": "stream",
     "text": [
      "Кількість товару, що було продано:\n",
      "(1430,)\n"
     ]
    }
   ],
   "source": [
    "# Кількість товару, що було продано:\n",
    "\n",
    "print('Кількість товару, що було продано:')\n",
    "count_items = \"\"\" SELECT SUM(quantity) FROM OrderItems \"\"\"\n",
    "result(count_items)"
   ]
  },
  {
   "cell_type": "code",
   "execution_count": 42,
   "metadata": {},
   "outputs": [
    {
     "name": "stdout",
     "output_type": "stream",
     "text": [
      "Кількість найменувань товару, ціна яких більше за 4:\n",
      "(6,)\n"
     ]
    }
   ],
   "source": [
    "# Кількість найменувань товару, ціна яких більше за 4:\n",
    "\n",
    "print('Кількість найменувань товару, ціна яких більше за 4:')\n",
    "count_prod_id = \"\"\" SELECT count(distinct(prod_id)) FROM Products WHERE prod_price > 4  \"\"\"\n",
    "result(count_prod_id)"
   ]
  },
  {
   "cell_type": "code",
   "execution_count": 46,
   "metadata": {},
   "outputs": [
    {
     "name": "stdout",
     "output_type": "stream",
     "text": [
      "3 найдорожчі товари в базі:\n",
      "('18 inch teddy bear', 11.99)\n",
      "('King doll', 9.49)\n",
      "('Queen doll', 9.49)\n"
     ]
    }
   ],
   "source": [
    "# Виводимо 3 найдорожчі товари в базі:\n",
    "\n",
    "print('3 найдорожчі товари в базі:')\n",
    "max_price = \"\"\" SELECT prod_name, prod_price FROM Products ORDER BY prod_price DESC LIMIT 3  \"\"\"\n",
    "result(max_price)"
   ]
  },
  {
   "cell_type": "code",
   "execution_count": 57,
   "metadata": {},
   "outputs": [
    {
     "name": "stdout",
     "output_type": "stream",
     "text": [
      "Kількість замовлень для кожного клієнта:\n",
      "('1000000001', 2)\n",
      "('1000000003', 1)\n",
      "('1000000004', 1)\n",
      "('1000000005', 1)\n"
     ]
    }
   ],
   "source": [
    "# Вираховуємо кількість замовлень для кожного клієнта, використовуючи підзапити:\n",
    "\n",
    "print('Kількість замовлень для кожного клієнта:')\n",
    "\n",
    "count_orders = \"\"\"\n",
    "SELECT cust_id, count(distinct(order_num))\n",
    "FROM Orders\n",
    "GROUP BY cust_id\n",
    "\"\"\"\n",
    "\n",
    "result(count_orders)"
   ]
  },
  {
   "cell_type": "code",
   "execution_count": 58,
   "metadata": {},
   "outputs": [
    {
     "name": "stdout",
     "output_type": "stream",
     "text": [
      "Cписок клієнтів та їх замовлень (використовуючи JOIN):\n",
      "('Village Toys', 20005)\n",
      "('Fun4All', 20006)\n",
      "('Fun4All', 20007)\n",
      "('The Toy Store', 20008)\n",
      "('Village Toys', 20009)\n"
     ]
    }
   ],
   "source": [
    "# Виводимо список клієнтів та їх замовлень (використовуючи JOIN):\n",
    "\n",
    "print('Cписок клієнтів та їх замовлень (використовуючи JOIN):')\n",
    "\n",
    "list_orders = \"\"\"\n",
    "SELECT cust_name, order_num\n",
    "FROM Orders\n",
    "JOIN Customers on Customers.cust_id=Orders.cust_id\n",
    "\"\"\"\n",
    "\n",
    "result(list_orders)"
   ]
  },
  {
   "cell_type": "code",
   "execution_count": 66,
   "metadata": {},
   "outputs": [
    {
     "name": "stdout",
     "output_type": "stream",
     "text": [
      "Cписок товарів з двох запитів (використовуючи UNION):\n",
      "('Bird bean bag toy', 3.49)\n",
      "('Fish bean bag toy', 3.49)\n",
      "('Rabbit bean bag toy', 3.49)\n",
      "('Raggedy Ann', 4.99)\n",
      "('8 inch teddy bear', 5.99)\n",
      "('12 inch teddy bear', 8.99)\n",
      "('King doll', 9.49)\n",
      "('Queen doll', 9.49)\n",
      "('18 inch teddy bear', 11.99)\n"
     ]
    }
   ],
   "source": [
    "# Список товарів двома запитами: 1й - ціна яких < 5; 2Й - ціна яких >=5.\n",
    "# Використати UNION для об'єднання запитів:\n",
    "\n",
    "print('Cписок товарів з двох запитів (використовуючи UNION):')\n",
    "\n",
    "list_products = \"\"\"\n",
    "SELECT prod_name, prod_price\n",
    "FROM \n",
    "    (SELECT prod_name, prod_price\n",
    "    FROM Products\n",
    "    WHERE prod_price < 5\n",
    "\n",
    "    UNION\n",
    "\n",
    "    SELECT prod_name, prod_price \n",
    "    FROM Products\n",
    "    WHERE prod_price >= 5)\n",
    "ORDER BY prod_price\n",
    "\"\"\"\n",
    "\n",
    "result(list_products)"
   ]
  }
 ],
 "metadata": {
  "kernelspec": {
   "display_name": "Python 3",
   "language": "python",
   "name": "python3"
  },
  "language_info": {
   "codemirror_mode": {
    "name": "ipython",
    "version": 3
   },
   "file_extension": ".py",
   "mimetype": "text/x-python",
   "name": "python",
   "nbconvert_exporter": "python",
   "pygments_lexer": "ipython3",
   "version": "3.8.3"
  }
 },
 "nbformat": 4,
 "nbformat_minor": 4
}
